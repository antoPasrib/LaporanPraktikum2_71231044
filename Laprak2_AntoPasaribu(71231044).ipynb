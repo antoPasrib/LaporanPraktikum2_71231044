{
 "cells": [
  {
   "cell_type": "code",
   "execution_count": 1,
   "id": "58cbc526",
   "metadata": {},
   "outputs": [
    {
     "name": "stdout",
     "output_type": "stream",
     "text": [
      "Masukkan tinggi badan (cm): 178\n",
      "Masukkan nilai BMI yang diinginkan: 25\n",
      "Berat badan anda:  79.21000000000001\n"
     ]
    }
   ],
   "source": [
    "tinggi = float(input(\"Masukkan tinggi badan (cm): \"))\n",
    "bmi_target = float(input(\"Masukkan nilai BMI yang diinginkan: \"))\n",
    "\n",
    "konversi_tinggi = tinggi / 100\n",
    "berat_diperlukan = bmi_target * (konversi_tinggi ** 2)\n",
    "\n",
    "print(\"Berat badan anda: \", berat_diperlukan)"
   ]
  },
  {
   "cell_type": "code",
   "execution_count": 3,
   "id": "392fe6bf",
   "metadata": {},
   "outputs": [
    {
     "name": "stdout",
     "output_type": "stream",
     "text": [
      "Fungsi f(x) = 2x^3 + 2x + 15 / x\n",
      "Masukan nilai x: 5\n",
      "Hasil dari fungsi adalah:  263.0\n"
     ]
    }
   ],
   "source": [
    "print(\"Fungsi f(x) = 2x^3 + 2x + 15 / x\")\n",
    "x = int(input(\"Masukan nilai x: \"))\n",
    "fungsi = 2 * x ** 3 + 2 * x + 15 / x\n",
    "print(\"Hasil dari fungsi adalah: \", fungsi)"
   ]
  },
  {
   "cell_type": "code",
   "execution_count": 4,
   "id": "fc773248",
   "metadata": {},
   "outputs": [
    {
     "name": "stdout",
     "output_type": "stream",
     "text": [
      "Masukkan gaji per jam yang Anda inginkan: 3500\n",
      "Masukkan jumlah jam kerja per minggu: 200\n",
      "\n",
      "Hasil Perhitungan:\n",
      "1. Pendapatan sebelum pajak: Rp 3500000.00\n",
      "2. Pendapatan setelah pajak: Rp 3010000.00\n",
      "3. Uang untuk baju dan aksesoris: Rp 301000.00\n",
      "4. Uang untuk alat tulis: Rp 30100.00\n",
      "5. Jumlah uang yang disedekahkan: Rp 669725.00\n",
      "6. Uang untuk anak yatim: Rp 200700.00\n",
      "7. Uang untuk kaum dhuafa: Rp 469025.00\n"
     ]
    }
   ],
   "source": [
    "gaji_per_jam = float(input(\"Masukkan gaji per jam yang Anda inginkan: \"))\n",
    "jam_per_minggu = float(input(\"Masukkan jumlah jam kerja per minggu: \"))\n",
    "\n",
    "minggu_kerja = 5\n",
    "pajak_persen = 14 / 100\n",
    "baju_aksesoris_persen = 10 / 100\n",
    "alat_tulis_persen = 1 / 100\n",
    "sedekah_persen = 25 / 100\n",
    "anak_yatim_persen = 30 / 100\n",
    "\n",
    "pendapatan_kotor = gaji_per_jam * jam_per_minggu * minggu_kerja\n",
    "\n",
    "pajak = pendapatan_kotor * pajak_persen\n",
    "pendapatan_bersih = pendapatan_kotor - pajak\n",
    "\n",
    "baju_aksesoris = pendapatan_bersih * baju_aksesoris_persen\n",
    "alat_tulis = pendapatan_bersih * alat_tulis_persen\n",
    "\n",
    "sisa_uang = pendapatan_bersih - (baju_aksesoris + alat_tulis)\n",
    "\n",
    "uang_sedekah = sisa_uang * sedekah_persen\n",
    "uang_anak_yatim = (uang_sedekah // 1000) * anak_yatim_persen * 1000\n",
    "uang_kaum_dhuafa = uang_sedekah - uang_anak_yatim\n",
    "\n",
    "print(\"\\nHasil Perhitungan:\")\n",
    "print(f\"1. Pendapatan sebelum pajak: Rp {pendapatan_kotor:.2f}\")\n",
    "print(f\"2. Pendapatan setelah pajak: Rp {pendapatan_bersih:.2f}\")\n",
    "print(f\"3. Uang untuk baju dan aksesoris: Rp {baju_aksesoris:.2f}\")\n",
    "print(f\"4. Uang untuk alat tulis: Rp {alat_tulis:.2f}\")\n",
    "print(f\"5. Jumlah uang yang disedekahkan: Rp {uang_sedekah:.2f}\")\n",
    "print(f\"6. Uang untuk anak yatim: Rp {uang_anak_yatim:.2f}\")\n",
    "print(f\"7. Uang untuk kaum dhuafa: Rp {uang_kaum_dhuafa:.2f}\")"
   ]
  },
  {
   "cell_type": "code",
   "execution_count": null,
   "id": "52cc7271",
   "metadata": {},
   "outputs": [],
   "source": []
  }
 ],
 "metadata": {
  "kernelspec": {
   "display_name": "Python 3 (ipykernel)",
   "language": "python",
   "name": "python3"
  },
  "language_info": {
   "codemirror_mode": {
    "name": "ipython",
    "version": 3
   },
   "file_extension": ".py",
   "mimetype": "text/x-python",
   "name": "python",
   "nbconvert_exporter": "python",
   "pygments_lexer": "ipython3",
   "version": "3.11.5"
  }
 },
 "nbformat": 4,
 "nbformat_minor": 5
}
